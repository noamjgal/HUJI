{
 "cells": [
  {
   "cell_type": "markdown",
   "id": "385d16dd-9cda-47c2-bc98-c26d291b8aac",
   "metadata": {},
   "source": [
    "# Micromobility D.C. Vehicle Map Creation"
   ]
  },
  {
   "cell_type": "code",
   "execution_count": 9,
   "id": "69b64b03-dab5-4d5c-8b33-8e31ac7c889d",
   "metadata": {
    "tags": []
   },
   "outputs": [
    {
     "name": "stdout",
     "output_type": "stream",
     "text": [
      "Processing data from Capital Bikeshare:\n",
      "Successfully processed data from Capital Bikeshare\n",
      "Processing data from Helbiz:\n",
      "Successfully processed data from Helbiz\n",
      "Processing data from Lime Micromobility (including Jump bikes):\n",
      "Successfully processed data from Lime Micromobility (including Jump bikes)\n",
      "Processing data from Lyft:\n",
      "Successfully processed data from Lyft\n",
      "Processing data from Spin:\n",
      "Successfully processed data from Spin\n"
     ]
    },
    {
     "name": "stderr",
     "output_type": "stream",
     "text": [
      "/var/folders/82/8hysmmrd67z622hf9p3q3th80000gn/T/ipykernel_84200/4137817841.py:84: UserWarning: Column names longer than 10 characters will be truncated when saved to ESRI Shapefile.\n",
      "  gdf.to_file(\"new_sat_vehicles.shp\")\n"
     ]
    }
   ],
   "source": [
    "import requests\n",
    "import geopandas as gpd\n",
    "from shapely.geometry import Point\n",
    "\n",
    "# Define the API endpoints\n",
    "api_dict = {\n",
    "    'Capital Bikeshare': 'https://gbfs.capitalbikeshare.com/gbfs/en/free_bike_status.json',\n",
    "    'Helbiz': 'https://api.helbiz.com/admin/reporting/washington/gbfs/gbfs.json',\n",
    "    'Lime Micromobility (including Jump bikes)': 'https://data.lime.bike/api/partners/v1/gbfs/washington_dc/free_bike_status.json',\n",
    "    'Lyft': 'https://s3.amazonaws.com/lyft-lastmile-production-iad/lbs/dca/free_bike_status.json',\n",
    "    'Spin': 'https://web.spin.pm/api/gbfs/v1/washington_dc/free_bike_status'\n",
    "}\n",
    "\n",
    "# Initialize an empty list to store vehicle information\n",
    "vehicle_info_list = []\n",
    "\n",
    "# Iterate over each API endpoint\n",
    "for company, url in api_dict.items():\n",
    "    print(f\"Processing data from {company}:\")\n",
    "    try:\n",
    "        response = requests.get(url)\n",
    "        data = response.json()\n",
    "        \n",
    "        if company == 'Helbiz':\n",
    "            feeds = data.get('data', {}).get('en', {}).get('feeds', [])\n",
    "            for feed in feeds:\n",
    "                feed_url = feed.get('url')\n",
    "                feed_response = requests.get(feed_url)\n",
    "                feed_data = feed_response.json()\n",
    "                bikes_data = feed_data.get('data', {}).get('bikes', [])\n",
    "                \n",
    "                for bike in bikes_data:\n",
    "                    lon = bike.get('lon')\n",
    "                    lat = bike.get('lat')\n",
    "                    bike_id = bike.get('bike_id')\n",
    "                    is_reserved = bike.get('is_reserved')\n",
    "                    is_disabled = bike.get('is_disabled')\n",
    "                    \n",
    "                    vehicle_info_list.append({\n",
    "                        'company': company,\n",
    "                        'lon': lon,\n",
    "                        'lat': lat,\n",
    "                        'bike_id': bike_id,\n",
    "                        'is_reserved': is_reserved,\n",
    "                        'is_disabled': is_disabled\n",
    "                    })\n",
    "        \n",
    "        else:\n",
    "            if 'bikes' in data['data']:\n",
    "                vehicles_data = data['data']['bikes']\n",
    "            elif 'vehicles' in data['data']:\n",
    "                vehicles_data = data['data']['vehicles']\n",
    "            else:\n",
    "                print(f\"No 'bikes' or 'vehicles' found in the response from {company}\")\n",
    "                continue\n",
    "            \n",
    "            # Extract vehicle information\n",
    "            for vehicle in vehicles_data:\n",
    "                # Adjust this according to your actual data structure\n",
    "                lon = vehicle.get('lon')\n",
    "                lat = vehicle.get('lat')\n",
    "                bike_id = vehicle.get('bike_id') or vehicle.get('id')  # Adjust if necessary\n",
    "                is_reserved = vehicle.get('is_reserved')\n",
    "                is_disabled = vehicle.get('is_disabled')\n",
    "                # Append vehicle information to the list\n",
    "                vehicle_info_list.append({\n",
    "                    'company': company,\n",
    "                    'lon': lon,\n",
    "                    'lat': lat,\n",
    "                    'bike_id': bike_id,\n",
    "                    'is_reserved': is_reserved,\n",
    "                    'is_disabled': is_disabled\n",
    "                })\n",
    "        \n",
    "        print(f\"Successfully processed data from {company}\")\n",
    "    except Exception as e:\n",
    "        print(f\"Error processing data from {company}: {e}\")\n",
    "\n",
    "# Create a GeoDataFrame from the vehicle information\n",
    "geometry = [Point(vehicle['lon'], vehicle['lat']) for vehicle in vehicle_info_list]\n",
    "gdf = gpd.GeoDataFrame(vehicle_info_list, geometry=geometry, crs=\"EPSG:4326\")\n",
    "\n",
    "# Save the GeoDataFrame as a shapefile\n",
    "gdf.to_file(\"new_sat_vehicles.shp\")\n",
    "\n",
    "# Visualize the shapefile on OpenStreetMap using Folium\n",
    "import folium\n",
    "\n",
    "# Create a map centered around the first vehicle\n",
    "m = folium.Map(location=[gdf.geometry.y[0], gdf.geometry.x[0]], zoom_start=12)\n",
    "\n",
    "# Add the shapefile as a GeoJSON layer\n",
    "folium.GeoJson(gdf).add_to(m)\n",
    "\n",
    "# Display the map\n",
    "m.save(\"new_sat_vehicles_map.html\")\n"
   ]
  },
  {
   "cell_type": "code",
   "execution_count": 11,
   "id": "7667b8fd-ec1a-433f-bee0-2e19c7b90e2b",
   "metadata": {
    "tags": []
   },
   "outputs": [
    {
     "name": "stdout",
     "output_type": "stream",
     "text": [
      "             company        lon        lat                           bike_id  \\\n",
      "0  Capital Bikeshare -77.045881  38.909646  617c2b5c789089640f34524e41bbeef5   \n",
      "1  Capital Bikeshare -77.142283  38.886031  bce571f06694b3a050b30b53d7586815   \n",
      "2  Capital Bikeshare -77.039374  38.892929  1ca688e1fbaf878604d981df15f46898   \n",
      "3  Capital Bikeshare -76.999399  38.877904  868702587bcd16b342d3daa3e02b1425   \n",
      "4  Capital Bikeshare -76.989774  38.977792  ccfa3dc7e625aafa9fd77544eac78e1d   \n",
      "\n",
      "  is_reserved is_disabled                    geometry  \n",
      "0           0           0  POINT (-77.04588 38.90965)  \n",
      "1           0           0  POINT (-77.14228 38.88603)  \n",
      "2           0           0  POINT (-77.03937 38.89293)  \n",
      "3           0           0  POINT (-76.99940 38.87790)  \n",
      "4           0           0  POINT (-76.98977 38.97779)  \n",
      "                lon           lat\n",
      "count  15572.000000  15572.000000\n",
      "mean     -77.023452     38.906211\n",
      "std        0.035123      0.028817\n",
      "min      -77.463644     37.553111\n",
      "25%      -77.039136     38.892300\n",
      "50%      -77.023800     38.903085\n",
      "75%      -77.004335     38.917500\n",
      "max      -76.602490     39.300818\n",
      "<class 'geopandas.geodataframe.GeoDataFrame'>\n",
      "RangeIndex: 15572 entries, 0 to 15571\n",
      "Data columns (total 7 columns):\n",
      " #   Column       Non-Null Count  Dtype   \n",
      "---  ------       --------------  -----   \n",
      " 0   company      15572 non-null  object  \n",
      " 1   lon          15572 non-null  float64 \n",
      " 2   lat          15572 non-null  float64 \n",
      " 3   bike_id      15572 non-null  object  \n",
      " 4   is_reserved  15572 non-null  object  \n",
      " 5   is_disabled  15572 non-null  object  \n",
      " 6   geometry     15572 non-null  geometry\n",
      "dtypes: float64(2), geometry(1), object(4)\n",
      "memory usage: 851.7+ KB\n",
      "None\n"
     ]
    }
   ],
   "source": [
    "# View the attribute table of the GeoDataFrame\n",
    "print(gdf.head())  # Display the first few rows\n",
    "print(gdf.describe())  # Summary statistics of numerical columns\n",
    "print(gdf.info())  # Information about the GeoDataFrame\n"
   ]
  },
  {
   "cell_type": "code",
   "execution_count": 13,
   "id": "3a560c56-7754-4e08-8b4e-4330a3415fb7",
   "metadata": {
    "tags": []
   },
   "outputs": [
    {
     "name": "stdout",
     "output_type": "stream",
     "text": [
      "company\n",
      "Lime Micromobility (including Jump bikes)    7912\n",
      "Spin                                         4347\n",
      "Lyft                                         2368\n",
      "Capital Bikeshare                             904\n",
      "Helbiz                                         41\n",
      "Name: count, dtype: int64\n"
     ]
    }
   ],
   "source": [
    "print(gdf['company'].value_counts())"
   ]
  },
  {
   "cell_type": "code",
   "execution_count": 31,
   "id": "4c2666e1-63ce-426a-b409-d58585699225",
   "metadata": {
    "tags": []
   },
   "outputs": [
    {
     "name": "stdout",
     "output_type": "stream",
     "text": [
      "                                        company        lon        lat  \\\n",
      "909                                      Helbiz -77.234270  38.875402   \n",
      "912                                      Helbiz -77.030274  38.926266   \n",
      "914                                      Helbiz -77.234289  38.875340   \n",
      "931                                      Helbiz -77.009222  38.895455   \n",
      "933                                      Helbiz -77.234735  38.875433   \n",
      "944                                      Helbiz -76.743323  39.188643   \n",
      "1896  Lime Micromobility (including Jump bikes) -76.998000  38.908500   \n",
      "\n",
      "                                   bike_id is_reserved is_disabled  \\\n",
      "909                              BROKENIOT           1           1   \n",
      "912                              BROKENIOT           1           0   \n",
      "914                              BROKENIOT           1           1   \n",
      "931                              BROKENIOT           1           1   \n",
      "933                                 EFKMA3           1           1   \n",
      "944                                 AF25VV           1           0   \n",
      "1896  ebbf122b-efbe-456b-9eb1-65a768119fc6           1           0   \n",
      "\n",
      "                        geometry  \n",
      "909   POINT (-77.23427 38.87540)  \n",
      "912   POINT (-77.03027 38.92627)  \n",
      "914   POINT (-77.23429 38.87534)  \n",
      "931   POINT (-77.00922 38.89545)  \n",
      "933   POINT (-77.23474 38.87543)  \n",
      "944   POINT (-76.74332 39.18864)  \n",
      "1896  POINT (-76.99800 38.90850)  \n"
     ]
    }
   ],
   "source": [
    "# Filter the DataFrame to include only entries where is_reserved is true\n",
    "reserved_entries = gdf[gdf['is_reserved'] == 1]\n",
    "\n",
    "# Print the filtered DataFrame\n",
    "print(reserved_entries)"
   ]
  },
  {
   "cell_type": "code",
   "execution_count": 33,
   "id": "b2ebf470-0440-425a-988f-b7c6332315da",
   "metadata": {
    "tags": []
   },
   "outputs": [],
   "source": [
    "# Save the DataFrame attribute table as a CSV file\n",
    "gdf.to_csv(\"mm_attribute_table.csv\", index=False)"
   ]
  }
 ],
 "metadata": {
  "kernelspec": {
   "display_name": "Python 3 (ipykernel)",
   "language": "python",
   "name": "python3"
  },
  "language_info": {
   "codemirror_mode": {
    "name": "ipython",
    "version": 3
   },
   "file_extension": ".py",
   "mimetype": "text/x-python",
   "name": "python",
   "nbconvert_exporter": "python",
   "pygments_lexer": "ipython3",
   "version": "3.11.8"
  }
 },
 "nbformat": 4,
 "nbformat_minor": 5
}
